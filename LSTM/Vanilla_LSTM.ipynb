{
 "cells": [
  {
   "cell_type": "markdown",
   "metadata": {},
   "source": [
    "# **Vanilla LSTM with TCLab APMonitor Control Temperature**"
   ]
  },
  {
   "cell_type": "markdown",
   "metadata": {},
   "source": [
    "A Vanilla LSTM is an LSTM model that has a single hidden layer of LSTM units, and an output layer used to make a prediction"
   ]
  },
  {
   "cell_type": "code",
   "execution_count": 21,
   "metadata": {},
   "outputs": [],
   "source": [
    "import pandas as pd\n",
    "import numpy as np\n",
    "import matplotlib.pyplot as plt\n",
    "%matplotlib inline\n",
    "import tclab"
   ]
  },
  {
   "cell_type": "markdown",
   "metadata": {},
   "source": [
    "## **Reading data y create column 'Error'**"
   ]
  },
  {
   "cell_type": "code",
   "execution_count": 22,
   "metadata": {},
   "outputs": [
    {
     "data": {
      "text/plain": [
       "Index(['tm', 'Q1', 'T1', 'Tsp1'], dtype='object')"
      ]
     },
     "execution_count": 22,
     "metadata": {},
     "output_type": "execute_result"
    }
   ],
   "source": [
    "df = pd.read_csv('data.csv',)\n",
    "df.columns"
   ]
  },
  {
   "cell_type": "code",
   "execution_count": 23,
   "metadata": {},
   "outputs": [
    {
     "data": {
      "text/plain": [
       "0        1.201\n",
       "1        1.201\n",
       "2        1.201\n",
       "3        1.201\n",
       "4        1.201\n",
       "         ...  \n",
       "14394   -0.225\n",
       "14395   -0.225\n",
       "14396   -0.225\n",
       "14397   -0.225\n",
       "14398   -0.225\n",
       "Name: error, Length: 14399, dtype: float64"
      ]
     },
     "execution_count": 23,
     "metadata": {},
     "output_type": "execute_result"
    }
   ],
   "source": [
    "df['error'] = df['Tsp1'] - df['T1']\n",
    "df.error"
   ]
  },
  {
   "cell_type": "code",
   "execution_count": 24,
   "metadata": {},
   "outputs": [],
   "source": [
    "X = df[['Tsp1', 'error', 'T1']].values\n",
    "y = df[['Q1']].values"
   ]
  },
  {
   "cell_type": "markdown",
   "metadata": {},
   "source": [
    "## **Preprocessing of data**"
   ]
  },
  {
   "cell_type": "code",
   "execution_count": 25,
   "metadata": {},
   "outputs": [],
   "source": [
    "from sklearn.preprocessing import MinMaxScaler\n",
    "from sklearn.model_selection import train_test_split\n",
    "## Scaled of data\n",
    "scaler_x = MinMaxScaler()\n",
    "X_scaler = scaler_x.fit_transform(X)\n",
    "scaler_y = MinMaxScaler()\n",
    "y_scaler = scaler_y.fit_transform(y)\n",
    "\n",
    "## [samples, timesteps, features]\n",
    "window = 30\n",
    "X_lstm = []\n",
    "y_lstm = []\n",
    "\n",
    "for i in range(window, len(X)):\n",
    "    X_lstm.append(X_scaler[i-window:i])\n",
    "    y_lstm.append(y_scaler[i])\n",
    "\n",
    "## Format accepted by the algorithm LSTM\n",
    "X_, y_ = np.array(X_lstm), np.array(y_lstm)\n",
    "\n",
    "## Partition of data\n",
    "X_train, X_test, y_train, y_test = train_test_split(X_, y_, test_size=0.2, shuffle=False)"
   ]
  },
  {
   "cell_type": "markdown",
   "metadata": {},
   "source": [
    "## **Modeling of Vanilla LSTM**"
   ]
  },
  {
   "cell_type": "code",
   "execution_count": 26,
   "metadata": {},
   "outputs": [
    {
     "name": "stdout",
     "output_type": "stream",
     "text": [
      "Epoch 1/200\n"
     ]
    },
    {
     "name": "stderr",
     "output_type": "stream",
     "text": [
      "2022-08-18 01:42:48.205563: I tensorflow/core/grappler/optimizers/custom_graph_optimizer_registry.cc:113] Plugin optimizer for device_type GPU is enabled.\n",
      "2022-08-18 01:42:48.393115: I tensorflow/core/grappler/optimizers/custom_graph_optimizer_registry.cc:113] Plugin optimizer for device_type GPU is enabled.\n"
     ]
    },
    {
     "name": "stdout",
     "output_type": "stream",
     "text": [
      "  5/103 [>.............................] - ETA: 1s - loss: 0.0909  "
     ]
    },
    {
     "name": "stderr",
     "output_type": "stream",
     "text": [
      "2022-08-18 01:42:48.512079: I tensorflow/core/grappler/optimizers/custom_graph_optimizer_registry.cc:113] Plugin optimizer for device_type GPU is enabled.\n"
     ]
    },
    {
     "name": "stdout",
     "output_type": "stream",
     "text": [
      "103/103 [==============================] - ETA: 0s - loss: 0.0390"
     ]
    },
    {
     "name": "stderr",
     "output_type": "stream",
     "text": [
      "2022-08-18 01:42:50.418531: I tensorflow/core/grappler/optimizers/custom_graph_optimizer_registry.cc:113] Plugin optimizer for device_type GPU is enabled.\n",
      "2022-08-18 01:42:50.480108: I tensorflow/core/grappler/optimizers/custom_graph_optimizer_registry.cc:113] Plugin optimizer for device_type GPU is enabled.\n"
     ]
    },
    {
     "name": "stdout",
     "output_type": "stream",
     "text": [
      "103/103 [==============================] - 3s 21ms/step - loss: 0.0390 - val_loss: 0.0240\n",
      "Epoch 2/200\n",
      "103/103 [==============================] - 2s 18ms/step - loss: 0.0223 - val_loss: 0.0215\n",
      "Epoch 3/200\n",
      "103/103 [==============================] - 2s 17ms/step - loss: 0.0201 - val_loss: 0.0208\n",
      "Epoch 4/200\n",
      "103/103 [==============================] - 2s 17ms/step - loss: 0.0190 - val_loss: 0.0203\n",
      "Epoch 5/200\n",
      "103/103 [==============================] - 2s 17ms/step - loss: 0.0183 - val_loss: 0.0204\n",
      "Epoch 6/200\n",
      "103/103 [==============================] - 2s 17ms/step - loss: 0.0177 - val_loss: 0.0196\n",
      "Epoch 7/200\n",
      "103/103 [==============================] - 2s 17ms/step - loss: 0.0175 - val_loss: 0.0198\n",
      "Epoch 8/200\n",
      "103/103 [==============================] - 2s 17ms/step - loss: 0.0169 - val_loss: 0.0192\n",
      "Epoch 9/200\n",
      "103/103 [==============================] - 2s 17ms/step - loss: 0.0166 - val_loss: 0.0197\n",
      "Epoch 10/200\n",
      "103/103 [==============================] - 2s 17ms/step - loss: 0.0163 - val_loss: 0.0196\n",
      "Epoch 11/200\n",
      "103/103 [==============================] - 2s 16ms/step - loss: 0.0163 - val_loss: 0.0189\n",
      "Epoch 12/200\n",
      "103/103 [==============================] - 2s 16ms/step - loss: 0.0159 - val_loss: 0.0192\n",
      "Epoch 13/200\n",
      "103/103 [==============================] - 2s 17ms/step - loss: 0.0157 - val_loss: 0.0196\n",
      "Epoch 14/200\n",
      "103/103 [==============================] - 2s 16ms/step - loss: 0.0156 - val_loss: 0.0192\n",
      "Epoch 15/200\n",
      "103/103 [==============================] - 2s 17ms/step - loss: 0.0152 - val_loss: 0.0187\n",
      "Epoch 16/200\n",
      "103/103 [==============================] - 2s 18ms/step - loss: 0.0152 - val_loss: 0.0189\n",
      "Epoch 17/200\n",
      "103/103 [==============================] - 2s 19ms/step - loss: 0.0151 - val_loss: 0.0180\n",
      "Epoch 18/200\n",
      "103/103 [==============================] - 2s 16ms/step - loss: 0.0150 - val_loss: 0.0181\n",
      "Epoch 19/200\n",
      "103/103 [==============================] - 2s 16ms/step - loss: 0.0148 - val_loss: 0.0181\n",
      "Epoch 20/200\n",
      "103/103 [==============================] - 2s 16ms/step - loss: 0.0146 - val_loss: 0.0186\n",
      "Epoch 21/200\n",
      "103/103 [==============================] - 2s 16ms/step - loss: 0.0147 - val_loss: 0.0187\n",
      "Epoch 22/200\n",
      "103/103 [==============================] - 2s 16ms/step - loss: 0.0146 - val_loss: 0.0181\n",
      "Epoch 23/200\n",
      "103/103 [==============================] - 2s 16ms/step - loss: 0.0143 - val_loss: 0.0189\n",
      "Epoch 24/200\n",
      "103/103 [==============================] - 2s 16ms/step - loss: 0.0142 - val_loss: 0.0181\n",
      "Epoch 25/200\n",
      "103/103 [==============================] - 2s 16ms/step - loss: 0.0141 - val_loss: 0.0185\n",
      "Epoch 26/200\n",
      "103/103 [==============================] - 2s 16ms/step - loss: 0.0141 - val_loss: 0.0188\n",
      "Epoch 27/200\n",
      "103/103 [==============================] - 2s 16ms/step - loss: 0.0139 - val_loss: 0.0184\n",
      "Epoch 28/200\n",
      "103/103 [==============================] - 2s 16ms/step - loss: 0.0139 - val_loss: 0.0178\n",
      "Epoch 29/200\n",
      "103/103 [==============================] - 2s 16ms/step - loss: 0.0138 - val_loss: 0.0176\n",
      "Epoch 30/200\n",
      "103/103 [==============================] - 2s 16ms/step - loss: 0.0139 - val_loss: 0.0177\n",
      "Epoch 31/200\n",
      "103/103 [==============================] - 2s 16ms/step - loss: 0.0137 - val_loss: 0.0181\n",
      "Epoch 32/200\n",
      "103/103 [==============================] - 2s 16ms/step - loss: 0.0137 - val_loss: 0.0177\n",
      "Epoch 33/200\n",
      "103/103 [==============================] - 2s 16ms/step - loss: 0.0136 - val_loss: 0.0176\n",
      "Epoch 34/200\n",
      "103/103 [==============================] - 2s 16ms/step - loss: 0.0135 - val_loss: 0.0174\n",
      "Epoch 35/200\n",
      "103/103 [==============================] - 2s 16ms/step - loss: 0.0138 - val_loss: 0.0175\n",
      "Epoch 36/200\n",
      "103/103 [==============================] - 2s 16ms/step - loss: 0.0135 - val_loss: 0.0174\n",
      "Epoch 37/200\n",
      "103/103 [==============================] - 2s 16ms/step - loss: 0.0135 - val_loss: 0.0172\n",
      "Epoch 38/200\n",
      "103/103 [==============================] - 2s 16ms/step - loss: 0.0134 - val_loss: 0.0172\n",
      "Epoch 39/200\n",
      "103/103 [==============================] - 2s 16ms/step - loss: 0.0134 - val_loss: 0.0179\n",
      "Epoch 40/200\n",
      "103/103 [==============================] - 2s 16ms/step - loss: 0.0134 - val_loss: 0.0178\n",
      "Epoch 41/200\n",
      "103/103 [==============================] - 2s 16ms/step - loss: 0.0133 - val_loss: 0.0170\n",
      "Epoch 42/200\n",
      "103/103 [==============================] - 2s 16ms/step - loss: 0.0133 - val_loss: 0.0176\n",
      "Epoch 43/200\n",
      "103/103 [==============================] - 2s 16ms/step - loss: 0.0132 - val_loss: 0.0172\n",
      "Epoch 44/200\n",
      "103/103 [==============================] - 2s 16ms/step - loss: 0.0131 - val_loss: 0.0171\n",
      "Epoch 45/200\n",
      "103/103 [==============================] - 2s 16ms/step - loss: 0.0133 - val_loss: 0.0169\n",
      "Epoch 46/200\n",
      "103/103 [==============================] - 2s 16ms/step - loss: 0.0131 - val_loss: 0.0169\n",
      "Epoch 47/200\n",
      "103/103 [==============================] - 2s 16ms/step - loss: 0.0130 - val_loss: 0.0165\n",
      "Epoch 48/200\n",
      "103/103 [==============================] - 2s 16ms/step - loss: 0.0129 - val_loss: 0.0168\n",
      "Epoch 49/200\n",
      "103/103 [==============================] - 2s 16ms/step - loss: 0.0129 - val_loss: 0.0172\n",
      "Epoch 50/200\n",
      "103/103 [==============================] - 2s 16ms/step - loss: 0.0128 - val_loss: 0.0166\n",
      "Epoch 51/200\n",
      "103/103 [==============================] - 2s 16ms/step - loss: 0.0127 - val_loss: 0.0169\n",
      "Epoch 52/200\n",
      "103/103 [==============================] - 2s 16ms/step - loss: 0.0127 - val_loss: 0.0177\n",
      "Epoch 53/200\n",
      "103/103 [==============================] - 2s 16ms/step - loss: 0.0129 - val_loss: 0.0164\n",
      "Epoch 54/200\n",
      "103/103 [==============================] - 2s 16ms/step - loss: 0.0126 - val_loss: 0.0163\n",
      "Epoch 55/200\n",
      "103/103 [==============================] - 2s 16ms/step - loss: 0.0126 - val_loss: 0.0164\n",
      "Epoch 56/200\n",
      "103/103 [==============================] - 2s 16ms/step - loss: 0.0125 - val_loss: 0.0164\n",
      "Epoch 57/200\n",
      "103/103 [==============================] - 2s 16ms/step - loss: 0.0125 - val_loss: 0.0162\n",
      "Epoch 58/200\n",
      "103/103 [==============================] - 2s 16ms/step - loss: 0.0124 - val_loss: 0.0168\n",
      "Epoch 59/200\n",
      "103/103 [==============================] - 2s 16ms/step - loss: 0.0124 - val_loss: 0.0167\n",
      "Epoch 60/200\n",
      "103/103 [==============================] - 2s 16ms/step - loss: 0.0124 - val_loss: 0.0161\n",
      "Epoch 61/200\n",
      "103/103 [==============================] - 2s 16ms/step - loss: 0.0125 - val_loss: 0.0164\n",
      "Epoch 62/200\n",
      "103/103 [==============================] - 2s 16ms/step - loss: 0.0124 - val_loss: 0.0161\n",
      "Epoch 63/200\n",
      "103/103 [==============================] - 2s 16ms/step - loss: 0.0123 - val_loss: 0.0167\n",
      "Epoch 64/200\n",
      "103/103 [==============================] - 2s 16ms/step - loss: 0.0124 - val_loss: 0.0162\n",
      "Epoch 65/200\n",
      "103/103 [==============================] - 2s 16ms/step - loss: 0.0125 - val_loss: 0.0158\n",
      "Epoch 66/200\n",
      "103/103 [==============================] - 2s 16ms/step - loss: 0.0124 - val_loss: 0.0172\n",
      "Epoch 67/200\n",
      "103/103 [==============================] - 2s 16ms/step - loss: 0.0123 - val_loss: 0.0157\n",
      "Epoch 68/200\n",
      "103/103 [==============================] - 2s 16ms/step - loss: 0.0122 - val_loss: 0.0160\n",
      "Epoch 69/200\n",
      "103/103 [==============================] - 2s 16ms/step - loss: 0.0122 - val_loss: 0.0161\n",
      "Epoch 70/200\n",
      "103/103 [==============================] - 2s 16ms/step - loss: 0.0122 - val_loss: 0.0156\n",
      "Epoch 71/200\n",
      "103/103 [==============================] - 2s 16ms/step - loss: 0.0122 - val_loss: 0.0163\n",
      "Epoch 72/200\n",
      "103/103 [==============================] - 2s 16ms/step - loss: 0.0121 - val_loss: 0.0161\n",
      "Epoch 73/200\n",
      "103/103 [==============================] - 2s 16ms/step - loss: 0.0122 - val_loss: 0.0164\n",
      "Epoch 74/200\n",
      "103/103 [==============================] - 2s 16ms/step - loss: 0.0121 - val_loss: 0.0158\n",
      "Epoch 75/200\n",
      "103/103 [==============================] - 2s 16ms/step - loss: 0.0121 - val_loss: 0.0157\n",
      "Epoch 76/200\n",
      "103/103 [==============================] - 2s 18ms/step - loss: 0.0121 - val_loss: 0.0162\n",
      "Epoch 77/200\n",
      "103/103 [==============================] - 2s 16ms/step - loss: 0.0120 - val_loss: 0.0153\n",
      "Epoch 78/200\n",
      "103/103 [==============================] - 2s 16ms/step - loss: 0.0121 - val_loss: 0.0159\n",
      "Epoch 79/200\n",
      "103/103 [==============================] - 2s 16ms/step - loss: 0.0119 - val_loss: 0.0158\n",
      "Epoch 80/200\n",
      "103/103 [==============================] - 2s 16ms/step - loss: 0.0119 - val_loss: 0.0156\n",
      "Epoch 81/200\n",
      "103/103 [==============================] - 2s 16ms/step - loss: 0.0120 - val_loss: 0.0156\n",
      "Epoch 82/200\n",
      "103/103 [==============================] - 2s 16ms/step - loss: 0.0120 - val_loss: 0.0177\n",
      "Epoch 83/200\n",
      "103/103 [==============================] - 2s 16ms/step - loss: 0.0121 - val_loss: 0.0171\n",
      "Epoch 84/200\n",
      "103/103 [==============================] - 2s 16ms/step - loss: 0.0121 - val_loss: 0.0156\n",
      "Epoch 85/200\n",
      "103/103 [==============================] - 2s 16ms/step - loss: 0.0119 - val_loss: 0.0155\n",
      "Epoch 86/200\n",
      "103/103 [==============================] - 2s 16ms/step - loss: 0.0120 - val_loss: 0.0162\n",
      "Epoch 87/200\n",
      "103/103 [==============================] - 2s 16ms/step - loss: 0.0120 - val_loss: 0.0161\n",
      "Epoch 88/200\n",
      "103/103 [==============================] - 2s 16ms/step - loss: 0.0119 - val_loss: 0.0158\n",
      "Epoch 89/200\n",
      "103/103 [==============================] - 2s 16ms/step - loss: 0.0120 - val_loss: 0.0155\n",
      "Epoch 90/200\n",
      "103/103 [==============================] - 2s 16ms/step - loss: 0.0119 - val_loss: 0.0156\n",
      "Epoch 91/200\n",
      "103/103 [==============================] - 2s 16ms/step - loss: 0.0118 - val_loss: 0.0153\n",
      "Epoch 92/200\n",
      "103/103 [==============================] - 2s 16ms/step - loss: 0.0119 - val_loss: 0.0154\n",
      "Epoch 93/200\n",
      "103/103 [==============================] - 2s 16ms/step - loss: 0.0117 - val_loss: 0.0153\n",
      "Epoch 94/200\n",
      "103/103 [==============================] - 2s 16ms/step - loss: 0.0119 - val_loss: 0.0155\n",
      "Epoch 95/200\n",
      "103/103 [==============================] - 2s 16ms/step - loss: 0.0118 - val_loss: 0.0153\n",
      "Epoch 96/200\n",
      "103/103 [==============================] - 2s 16ms/step - loss: 0.0119 - val_loss: 0.0156\n",
      "Epoch 97/200\n",
      "103/103 [==============================] - 2s 16ms/step - loss: 0.0119 - val_loss: 0.0152\n",
      "Epoch 98/200\n",
      "103/103 [==============================] - 2s 16ms/step - loss: 0.0119 - val_loss: 0.0153\n",
      "Epoch 99/200\n",
      "103/103 [==============================] - 2s 16ms/step - loss: 0.0118 - val_loss: 0.0156\n",
      "Epoch 100/200\n",
      "103/103 [==============================] - 2s 16ms/step - loss: 0.0118 - val_loss: 0.0152\n",
      "Epoch 101/200\n",
      "103/103 [==============================] - 2s 16ms/step - loss: 0.0117 - val_loss: 0.0156\n",
      "Epoch 102/200\n",
      "103/103 [==============================] - 2s 16ms/step - loss: 0.0117 - val_loss: 0.0168\n",
      "Epoch 103/200\n",
      "103/103 [==============================] - 2s 16ms/step - loss: 0.0117 - val_loss: 0.0152\n",
      "Epoch 104/200\n",
      "103/103 [==============================] - 2s 16ms/step - loss: 0.0116 - val_loss: 0.0155\n",
      "Epoch 105/200\n",
      "103/103 [==============================] - 2s 16ms/step - loss: 0.0118 - val_loss: 0.0158\n",
      "Epoch 106/200\n",
      "103/103 [==============================] - 2s 16ms/step - loss: 0.0117 - val_loss: 0.0157\n",
      "Epoch 107/200\n",
      "103/103 [==============================] - 2s 16ms/step - loss: 0.0118 - val_loss: 0.0165\n",
      "Epoch 108/200\n",
      "103/103 [==============================] - 2s 16ms/step - loss: 0.0117 - val_loss: 0.0161\n",
      "Epoch 109/200\n",
      "103/103 [==============================] - 2s 16ms/step - loss: 0.0117 - val_loss: 0.0150\n",
      "Epoch 110/200\n",
      "103/103 [==============================] - 2s 16ms/step - loss: 0.0116 - val_loss: 0.0155\n",
      "Epoch 111/200\n",
      "103/103 [==============================] - 2s 16ms/step - loss: 0.0116 - val_loss: 0.0156\n",
      "Epoch 112/200\n",
      "103/103 [==============================] - 2s 16ms/step - loss: 0.0117 - val_loss: 0.0156\n",
      "Epoch 113/200\n",
      "103/103 [==============================] - 2s 16ms/step - loss: 0.0118 - val_loss: 0.0156\n",
      "Epoch 114/200\n",
      "103/103 [==============================] - 2s 16ms/step - loss: 0.0116 - val_loss: 0.0156\n",
      "Epoch 115/200\n",
      "103/103 [==============================] - 2s 16ms/step - loss: 0.0116 - val_loss: 0.0155\n",
      "Epoch 116/200\n",
      "103/103 [==============================] - 2s 16ms/step - loss: 0.0117 - val_loss: 0.0152\n",
      "Epoch 117/200\n",
      "103/103 [==============================] - 2s 16ms/step - loss: 0.0117 - val_loss: 0.0151\n",
      "Epoch 118/200\n",
      "103/103 [==============================] - 2s 16ms/step - loss: 0.0117 - val_loss: 0.0156\n",
      "Epoch 119/200\n",
      "103/103 [==============================] - 2s 16ms/step - loss: 0.0117 - val_loss: 0.0153\n",
      "Epoch 120/200\n",
      "103/103 [==============================] - 2s 16ms/step - loss: 0.0116 - val_loss: 0.0152\n",
      "Epoch 121/200\n",
      "103/103 [==============================] - 2s 16ms/step - loss: 0.0116 - val_loss: 0.0150\n",
      "Epoch 122/200\n",
      "103/103 [==============================] - 2s 16ms/step - loss: 0.0116 - val_loss: 0.0152\n",
      "Epoch 123/200\n",
      "103/103 [==============================] - 2s 16ms/step - loss: 0.0117 - val_loss: 0.0155\n",
      "Epoch 124/200\n",
      "103/103 [==============================] - 2s 16ms/step - loss: 0.0115 - val_loss: 0.0150\n",
      "Epoch 125/200\n",
      "103/103 [==============================] - 2s 16ms/step - loss: 0.0115 - val_loss: 0.0156\n",
      "Epoch 126/200\n",
      "103/103 [==============================] - 2s 16ms/step - loss: 0.0115 - val_loss: 0.0156\n",
      "Epoch 127/200\n",
      "103/103 [==============================] - 2s 16ms/step - loss: 0.0116 - val_loss: 0.0153\n",
      "Epoch 128/200\n",
      "103/103 [==============================] - 2s 16ms/step - loss: 0.0116 - val_loss: 0.0154\n",
      "Epoch 129/200\n",
      "103/103 [==============================] - 2s 16ms/step - loss: 0.0116 - val_loss: 0.0160\n",
      "Epoch 130/200\n",
      "103/103 [==============================] - 2s 16ms/step - loss: 0.0115 - val_loss: 0.0151\n",
      "Epoch 131/200\n",
      "103/103 [==============================] - 2s 16ms/step - loss: 0.0116 - val_loss: 0.0151\n",
      "Epoch 132/200\n",
      "103/103 [==============================] - 2s 16ms/step - loss: 0.0116 - val_loss: 0.0155\n",
      "Epoch 133/200\n",
      "103/103 [==============================] - 2s 16ms/step - loss: 0.0115 - val_loss: 0.0151\n",
      "Epoch 134/200\n",
      "103/103 [==============================] - 2s 16ms/step - loss: 0.0115 - val_loss: 0.0156\n",
      "Epoch 135/200\n",
      "103/103 [==============================] - 2s 16ms/step - loss: 0.0115 - val_loss: 0.0158\n",
      "Epoch 136/200\n",
      "103/103 [==============================] - 2s 16ms/step - loss: 0.0115 - val_loss: 0.0148\n",
      "Epoch 137/200\n",
      "103/103 [==============================] - 2s 16ms/step - loss: 0.0115 - val_loss: 0.0152\n",
      "Epoch 138/200\n",
      "103/103 [==============================] - 2s 16ms/step - loss: 0.0115 - val_loss: 0.0156\n",
      "Epoch 139/200\n",
      "103/103 [==============================] - 2s 16ms/step - loss: 0.0116 - val_loss: 0.0154\n",
      "Epoch 140/200\n",
      "103/103 [==============================] - 2s 16ms/step - loss: 0.0115 - val_loss: 0.0153\n",
      "Epoch 141/200\n",
      "103/103 [==============================] - 2s 16ms/step - loss: 0.0115 - val_loss: 0.0157\n",
      "Epoch 142/200\n",
      "103/103 [==============================] - 2s 16ms/step - loss: 0.0115 - val_loss: 0.0155\n",
      "Epoch 143/200\n",
      "103/103 [==============================] - 2s 16ms/step - loss: 0.0115 - val_loss: 0.0152\n",
      "Epoch 144/200\n",
      "103/103 [==============================] - 2s 16ms/step - loss: 0.0114 - val_loss: 0.0150\n",
      "Epoch 145/200\n",
      "103/103 [==============================] - 2s 16ms/step - loss: 0.0114 - val_loss: 0.0156\n",
      "Epoch 146/200\n",
      "103/103 [==============================] - 2s 16ms/step - loss: 0.0114 - val_loss: 0.0150\n",
      "Epoch 147/200\n",
      "103/103 [==============================] - 2s 16ms/step - loss: 0.0114 - val_loss: 0.0156\n",
      "Epoch 148/200\n",
      "103/103 [==============================] - 2s 16ms/step - loss: 0.0114 - val_loss: 0.0170\n",
      "Epoch 149/200\n",
      "103/103 [==============================] - 2s 16ms/step - loss: 0.0114 - val_loss: 0.0147\n",
      "Epoch 150/200\n",
      "103/103 [==============================] - 2s 16ms/step - loss: 0.0115 - val_loss: 0.0153\n",
      "Epoch 151/200\n",
      "103/103 [==============================] - 2s 16ms/step - loss: 0.0114 - val_loss: 0.0158\n",
      "Epoch 152/200\n",
      "103/103 [==============================] - 2s 16ms/step - loss: 0.0114 - val_loss: 0.0156\n",
      "Epoch 153/200\n",
      "103/103 [==============================] - 2s 16ms/step - loss: 0.0114 - val_loss: 0.0155\n",
      "Epoch 154/200\n",
      "103/103 [==============================] - 2s 16ms/step - loss: 0.0114 - val_loss: 0.0156\n",
      "Epoch 155/200\n",
      "103/103 [==============================] - 2s 16ms/step - loss: 0.0114 - val_loss: 0.0150\n",
      "Epoch 156/200\n",
      "103/103 [==============================] - 2s 16ms/step - loss: 0.0114 - val_loss: 0.0155\n",
      "Epoch 157/200\n",
      "103/103 [==============================] - 2s 16ms/step - loss: 0.0114 - val_loss: 0.0156\n",
      "Epoch 158/200\n",
      "103/103 [==============================] - 2s 16ms/step - loss: 0.0113 - val_loss: 0.0155\n",
      "Epoch 159/200\n",
      "103/103 [==============================] - 2s 16ms/step - loss: 0.0114 - val_loss: 0.0152\n",
      "Epoch 160/200\n",
      "103/103 [==============================] - 2s 16ms/step - loss: 0.0115 - val_loss: 0.0150\n",
      "Epoch 161/200\n",
      "103/103 [==============================] - 2s 16ms/step - loss: 0.0115 - val_loss: 0.0148\n",
      "Epoch 162/200\n",
      "103/103 [==============================] - 2s 16ms/step - loss: 0.0113 - val_loss: 0.0156\n",
      "Epoch 163/200\n",
      "103/103 [==============================] - 2s 16ms/step - loss: 0.0115 - val_loss: 0.0149\n",
      "Epoch 164/200\n",
      "103/103 [==============================] - 2s 16ms/step - loss: 0.0113 - val_loss: 0.0147\n",
      "Epoch 165/200\n",
      "103/103 [==============================] - 2s 18ms/step - loss: 0.0113 - val_loss: 0.0151\n",
      "Epoch 166/200\n",
      "103/103 [==============================] - 2s 17ms/step - loss: 0.0115 - val_loss: 0.0148\n",
      "Epoch 167/200\n",
      "103/103 [==============================] - 2s 17ms/step - loss: 0.0114 - val_loss: 0.0152\n",
      "Epoch 168/200\n",
      "103/103 [==============================] - 2s 16ms/step - loss: 0.0113 - val_loss: 0.0156\n",
      "Epoch 169/200\n",
      "103/103 [==============================] - 2s 16ms/step - loss: 0.0113 - val_loss: 0.0151\n",
      "Epoch 170/200\n",
      "103/103 [==============================] - 2s 16ms/step - loss: 0.0113 - val_loss: 0.0149\n",
      "Epoch 171/200\n",
      "103/103 [==============================] - 2s 16ms/step - loss: 0.0113 - val_loss: 0.0155\n",
      "Epoch 172/200\n",
      "103/103 [==============================] - 2s 17ms/step - loss: 0.0113 - val_loss: 0.0149\n",
      "Epoch 173/200\n",
      "103/103 [==============================] - 2s 16ms/step - loss: 0.0115 - val_loss: 0.0161\n",
      "Epoch 174/200\n",
      "103/103 [==============================] - 2s 17ms/step - loss: 0.0115 - val_loss: 0.0147\n",
      "Epoch 175/200\n",
      "103/103 [==============================] - 2s 16ms/step - loss: 0.0114 - val_loss: 0.0156\n",
      "Epoch 176/200\n",
      "103/103 [==============================] - 2s 17ms/step - loss: 0.0113 - val_loss: 0.0151\n",
      "Epoch 177/200\n",
      "103/103 [==============================] - 2s 16ms/step - loss: 0.0114 - val_loss: 0.0149\n",
      "Epoch 178/200\n",
      "103/103 [==============================] - 2s 16ms/step - loss: 0.0113 - val_loss: 0.0159\n",
      "Epoch 179/200\n",
      "103/103 [==============================] - 2s 18ms/step - loss: 0.0113 - val_loss: 0.0148\n",
      "Epoch 180/200\n",
      "103/103 [==============================] - 2s 16ms/step - loss: 0.0112 - val_loss: 0.0153\n",
      "Epoch 181/200\n",
      "103/103 [==============================] - 2s 16ms/step - loss: 0.0114 - val_loss: 0.0152\n",
      "Epoch 182/200\n",
      "103/103 [==============================] - 2s 18ms/step - loss: 0.0114 - val_loss: 0.0156\n",
      "Epoch 183/200\n",
      "103/103 [==============================] - 2s 18ms/step - loss: 0.0113 - val_loss: 0.0151\n",
      "Epoch 184/200\n",
      "103/103 [==============================] - 2s 17ms/step - loss: 0.0113 - val_loss: 0.0159\n",
      "Epoch 185/200\n",
      "103/103 [==============================] - 2s 16ms/step - loss: 0.0113 - val_loss: 0.0149\n",
      "Epoch 186/200\n",
      "103/103 [==============================] - 2s 16ms/step - loss: 0.0113 - val_loss: 0.0160\n",
      "Epoch 187/200\n",
      "103/103 [==============================] - 2s 17ms/step - loss: 0.0114 - val_loss: 0.0152\n",
      "Epoch 188/200\n",
      "103/103 [==============================] - 2s 16ms/step - loss: 0.0113 - val_loss: 0.0159\n",
      "Epoch 189/200\n",
      "103/103 [==============================] - 2s 16ms/step - loss: 0.0114 - val_loss: 0.0148\n",
      "Epoch 190/200\n",
      "103/103 [==============================] - 2s 16ms/step - loss: 0.0112 - val_loss: 0.0151\n",
      "Epoch 191/200\n",
      "103/103 [==============================] - 2s 16ms/step - loss: 0.0113 - val_loss: 0.0154\n",
      "Epoch 192/200\n",
      "103/103 [==============================] - 2s 16ms/step - loss: 0.0113 - val_loss: 0.0146\n",
      "Epoch 193/200\n",
      "103/103 [==============================] - 2s 16ms/step - loss: 0.0114 - val_loss: 0.0146\n",
      "Epoch 194/200\n",
      "103/103 [==============================] - 2s 16ms/step - loss: 0.0113 - val_loss: 0.0148\n",
      "Epoch 195/200\n",
      "103/103 [==============================] - 2s 16ms/step - loss: 0.0113 - val_loss: 0.0153\n",
      "Epoch 196/200\n",
      "103/103 [==============================] - 2s 16ms/step - loss: 0.0112 - val_loss: 0.0149\n",
      "Epoch 197/200\n",
      "103/103 [==============================] - 2s 16ms/step - loss: 0.0113 - val_loss: 0.0151\n",
      "Epoch 198/200\n",
      "103/103 [==============================] - 2s 16ms/step - loss: 0.0114 - val_loss: 0.0158\n",
      "Epoch 199/200\n",
      "103/103 [==============================] - 2s 16ms/step - loss: 0.0113 - val_loss: 0.0149\n",
      "Epoch 200/200\n",
      "103/103 [==============================] - 2s 16ms/step - loss: 0.0113 - val_loss: 0.0146\n"
     ]
    }
   ],
   "source": [
    "from keras.models import Sequential\n",
    "from keras.layers import LSTM, Dense, Dropout\n",
    "\n",
    "model = Sequential()\n",
    "model.add(LSTM(50, activation='tanh', return_sequences=True, input_shape=(X_.shape[1], X_.shape[2])))\n",
    "model.add(Dropout(rate=0.3 ))\n",
    "model.add(Dense(1))\n",
    "model.compile (optimizer='adam', loss='mse')\n",
    "history = model.fit(X_train, y_train, epochs=200, verbose=1, validation_split=0.2, batch_size=90)"
   ]
  },
  {
   "cell_type": "code",
   "execution_count": 27,
   "metadata": {},
   "outputs": [],
   "source": [
    "# history = model.fit(X_train, y_train, epochs=200, verbose=1, validation_split=0.2, batch_size=100)"
   ]
  },
  {
   "cell_type": "code",
   "execution_count": 28,
   "metadata": {},
   "outputs": [
    {
     "data": {
      "image/png": "[encoded data removed]",
      "text/plain": [
       "<Figure size 432x288 with 1 Axes>"
      ]
     },
     "metadata": {
      "needs_background": "light"
     },
     "output_type": "display_data"
    }
   ],
   "source": [
    "model.save('Lstm_vanilla.h5')\n",
    "plt.semilogy(history.history['loss'], label='loss')\n",
    "plt.semilogy(history.history['val_loss'], label='val_loss')\n",
    "plt.legend();"
   ]
  },
  {
   "cell_type": "markdown",
   "metadata": {},
   "source": [
    "## **Metrics**"
   ]
  },
  {
   "cell_type": "code",
   "execution_count": 29,
   "metadata": {},
   "outputs": [
    {
     "name": "stdout",
     "output_type": "stream",
     "text": [
      " 8/90 [=>............................] - ETA: 0s "
     ]
    },
    {
     "name": "stderr",
     "output_type": "stream",
     "text": [
      "2022-08-18 01:48:23.885893: I tensorflow/core/grappler/optimizers/custom_graph_optimizer_registry.cc:113] Plugin optimizer for device_type GPU is enabled.\n",
      "2022-08-18 01:48:23.949183: I tensorflow/core/grappler/optimizers/custom_graph_optimizer_registry.cc:113] Plugin optimizer for device_type GPU is enabled.\n"
     ]
    },
    {
     "name": "stdout",
     "output_type": "stream",
     "text": [
      "90/90 [==============================] - 1s 8ms/step\n",
      "Mean Squered Error:  17.83614399048715\n"
     ]
    }
   ],
   "source": [
    "from sklearn.metrics import mean_squared_error\n",
    "predict = model.predict(X_test)\n",
    "\n",
    "predict = scaler_y.inverse_transform(predict[:,-1,].reshape(-1,1))\n",
    "yt = scaler_y.inverse_transform(y_test)\n",
    "print(\"Mean Squered Error: \", mean_squared_error(predict[:,0], yt))"
   ]
  },
  {
   "cell_type": "markdown",
   "metadata": {},
   "source": [
    "## **Comparing results**"
   ]
  },
  {
   "cell_type": "code",
   "execution_count": 30,
   "metadata": {},
   "outputs": [
    {
     "data": {
      "text/plain": [
       "[]"
      ]
     },
     "execution_count": 30,
     "metadata": {},
     "output_type": "execute_result"
    },
    {
     "data": {
      "image/png": "[encoded data removed]",
      "text/plain": [
       "<Figure size 1440x720 with 1 Axes>"
      ]
     },
     "metadata": {
      "needs_background": "light"
     },
     "output_type": "display_data"
    }
   ],
   "source": [
    "X_test_us = scaler_x.inverse_transform(X_test[:,-1,:])\n",
    "y_test_us = scaler_y.inverse_transform(y_test)\n",
    "plt.figure(figsize=(20,10))\n",
    "plt.plot(yt)\n",
    "plt.plot(y_test_us)\n",
    "plt.plot()"
   ]
  },
  {
   "cell_type": "code",
   "execution_count": null,
   "metadata": {},
   "outputs": [],
   "source": []
  }
 ],
 "metadata": {
  "kernelspec": {
   "display_name": "Python 3.8.13",
   "language": "python",
   "name": "python3"
  },
  "language_info": {
   "codemirror_mode": {
    "name": "ipython",
    "version": 3
   },
   "file_extension": ".py",
   "mimetype": "text/x-python",
   "name": "python",
   "nbconvert_exporter": "python",
   "pygments_lexer": "ipython3",
   "version": "3.8.13"
  },
  "orig_nbformat": 4,
  "vscode": {
   "interpreter": {
    "hash": "8aa215c9d76822b32b0ac45a6fba8cefbb463b4698a228f7f69aa2a9b29d7c05"
   }
  }
 },
 "nbformat": 4,
 "nbformat_minor": 2
}
